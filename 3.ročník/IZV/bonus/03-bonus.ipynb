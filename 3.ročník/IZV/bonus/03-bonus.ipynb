{
 "metadata": {
  "language_info": {
   "codemirror_mode": {
    "name": "ipython",
    "version": 3
   },
   "file_extension": ".py",
   "mimetype": "text/x-python",
   "name": "python",
   "nbconvert_exporter": "python",
   "pygments_lexer": "ipython3",
   "version": "3.8.6-final"
  },
  "orig_nbformat": 2,
  "kernelspec": {
   "name": "Python 3.8.6 64-bit ('env': venv)",
   "display_name": "Python 3.8.6 64-bit ('env': venv)",
   "metadata": {
    "interpreter": {
     "hash": "ff2737fb3b19c52e374f78e0262b645a986db5de415690a63d42869c9ec6db9a"
    }
   }
  }
 },
 "nbformat": 4,
 "nbformat_minor": 2,
 "cells": [
  {
   "source": [
    "## Bonusový úkol č. 2 - stahování dat z webového zdroje\n",
    "Vytvořte funkci **sync()**, která získá kompletní seznam produktů (tj. včetně dalších stránek) dostupných v kategorii\n",
    "https://www.alza.cz/bezzrcadlovky-bez-objektivu/18863907.htm\n",
    "a u každého produktu zjistí jeho aktuální cenu a stav skladu.\n",
    "Funkce bude uchovávat získané informace a historii změn v relační databázi SQLLite3 obsahující dvě tabulky:  \n",
    "* tabulku `products` a  \n",
    "* tabulku `products_history`.\n",
    "\n",
    "Struktura obou tabulek je shodná a obsahuje následující sloupce:  \n",
    "* `id` TEXT - id produktu, např. OS072i1l1 (viz data-impression-id),  \n",
    "* `url` TEXT - url produktu k kterému se vztahuje cena (pouze část path, viz ukázka na konci),  \n",
    "* `title` TEXT - název produktu,  \n",
    "* `price` DECIMAL - cena produktu s DPH k danému datu,   \n",
    "* `stock_state` TEXT - stav skladu k danému datu,  \n",
    "* `last_update` DATETIME - datum poslední změny hodnot záznamu v UTC  \n",
    "\n",
    "Do tabulky `products_history` zkopírujte záznam z tabulky `products` ve chvíli, kdy se změnil nějaký sledovaný údaj (název, cena nebo stav skladu) a je potřeba aktualizovat data v tabulce `products`. Pozor, jedno `id` může mít více variant `url` s různou cenou. Při opětovném volání funkce **sync()** se prověří existence záznamu v `products`, prověří se shoda hodnot a vždy aktualizuje hodnota `last_update`, aby bylo zřejmé, ke kterému datu je informace platná.\n",
    "\n",
    "**Předpokládaná náročnost**: 1 hodina"
   ],
   "cell_type": "markdown",
   "metadata": {}
  },
  {
   "source": [
    "### Závislosti, načtení knihoven\n",
    "\n",
    "V následující buňce deklarujte všechny závislosti"
   ],
   "cell_type": "markdown",
   "metadata": {}
  },
  {
   "cell_type": "code",
   "execution_count": 1,
   "metadata": {},
   "outputs": [
    {
     "output_type": "stream",
     "name": "stdout",
     "text": [
      "Requirement already satisfied: requests in /home/tomas/Documents/IIS/env/lib/python3.8/site-packages (2.24.0)\n",
      "Requirement already satisfied: requests_cache in /home/tomas/Documents/IIS/env/lib/python3.8/site-packages (0.5.2)\n",
      "Requirement already satisfied: bs4 in /home/tomas/Documents/IIS/env/lib/python3.8/site-packages (0.0.1)\n",
      "Requirement already satisfied: certifi>=2017.4.17 in /home/tomas/Documents/IIS/env/lib/python3.8/site-packages (from requests) (2020.6.20)\n",
      "Requirement already satisfied: urllib3!=1.25.0,!=1.25.1,<1.26,>=1.21.1 in /home/tomas/Documents/IIS/env/lib/python3.8/site-packages (from requests) (1.25.10)\n",
      "Requirement already satisfied: chardet<4,>=3.0.2 in /home/tomas/Documents/IIS/env/lib/python3.8/site-packages (from requests) (3.0.4)\n",
      "Requirement already satisfied: idna<3,>=2.5 in /home/tomas/Documents/IIS/env/lib/python3.8/site-packages (from requests) (2.10)\n",
      "Requirement already satisfied: beautifulsoup4 in /home/tomas/Documents/IIS/env/lib/python3.8/site-packages (from bs4) (4.9.3)\n",
      "Requirement already satisfied: soupsieve>1.2; python_version >= \"3.0\" in /home/tomas/Documents/IIS/env/lib/python3.8/site-packages (from beautifulsoup4->bs4) (2.0.1)\n",
      "Note: you may need to restart the kernel to use updated packages.\n"
     ]
    }
   ],
   "source": [
    "%pip install requests requests_cache bs4\n",
    "\n",
    "import requests, requests_cache, sqlite3, random, datetime\n",
    "from bs4 import BeautifulSoup\n",
    "\n",
    "#pro vývoj je vhodné zapnout cache (viz přednáška), pro finalní otestovaní tento řádek zakomentujte\n",
    "#requests_cache.install_cache('devel') \n",
    "\n",
    "#nadeklarujeme si novy typ sloupce DECIMAL do sqlite3, abychom měli automatický převod mezi SQLite3 a Python\n",
    "from decimal import Decimal\n",
    "sqlite3.register_adapter(Decimal, lambda d: str(d))\n",
    "sqlite3.register_converter(\"DECIMAL\", lambda s: Decimal(s.decode('ascii')))"
   ]
  },
  {
   "source": [
    "### Deklarace funkce\n",
    "\n",
    "V následujícím boxu definujte funkci **sync(name)** s jedním parametrem (název souboru s DB), která provede zadanou operaci. \n",
    "Pro přístup k DB lze s ohledem na složitost zadání použít přímo funkcionalitu vestavěného modulu sqlite3 (viz https://docs.python.org/2/library/sqlite3.html).\n",
    "\n",
    "**TIP**: pro získání seznamu všech produktů lze použít endpoint https://www.alza.cz/Services/EShopService.svc/Filter\n",
    "\n",
    "Mohlo by se také hodit: https://curl.trillworks.com/"
   ],
   "cell_type": "markdown",
   "metadata": {}
  },
  {
   "cell_type": "code",
   "execution_count": 4,
   "metadata": {},
   "outputs": [],
   "source": [
    "# V tomto boxu pouze implementujte funkci ale nevolejte ji (pro vývoj si vytvořte vlastní buňky).\n",
    "# nezapomeňte na cookies a hlavičky, jinak se Vám může zobrazit otázka \"nejste robot?\"\n",
    "def sync(dbfile='data.sqlite'):\n",
    "    with sqlite3.connect(dbfile, detect_types=sqlite3.PARSE_DECLTYPES) as conn:\n",
    "        c = conn.cursor()\n",
    "        c.execute('''CREATE TABLE IF NOT EXISTS products\n",
    "                  (id TEXT, url TEXT, title TEXT, price DECIMAL, stock_state TEXT, last_update DATETIME, PRIMARY KEY(id,url))''')\n",
    "        \n",
    "        c.execute('''CREATE TABLE IF NOT EXISTS products_history\n",
    "                  (id TEXT, url TEXT, title TEXT, price DECIMAL, stock_state TEXT, last_update DATETIME)''')\n",
    "\n",
    "        c.execute('''CREATE INDEX IF NOT EXISTS idx_id ON products (id)''')\n",
    "        c.execute('''CREATE INDEX IF NOT EXISTS idx_idurl ON products_history (id, url)''')\n",
    "\n",
    "        s = requests.session()\n",
    "        \n",
    "        #Get data from alza using filter\n",
    "        resp = requests.post('https://www.alza.cz/Services/EShopService.svc/Filter', json={\n",
    "                'idCategory': 18863907, \n",
    "                'producers': '', \n",
    "                'parameters': [], \n",
    "                'idPrefix': 0, \n",
    "                'prefixType': 0, \n",
    "                'page': 1, \n",
    "                'pageTo': 4, \n",
    "                'inStock': False, \n",
    "                'newsOnly': False, \n",
    "                'commodityStatusType': None, \n",
    "                'upperDescriptionStatus': 0, \n",
    "                'branchId': -2, \n",
    "                'sort': 0, \n",
    "                'categoryType': 1, \n",
    "                'searchTerm': '', \n",
    "                'sendProducers': False, \n",
    "                'layout': 0, \n",
    "                'append': False, \n",
    "                'leasingCatId': None, \n",
    "                'yearFrom': None, \n",
    "                'yearTo': None, \n",
    "                'artistId': None, \n",
    "                'minPrice': -1, \n",
    "                'maxPrice': -1, \n",
    "                'shouldDisplayVirtooal': False, \n",
    "                'callFromParametrizationDialog': False, \n",
    "                'commodityWearType': None, \n",
    "                'scroll': 10905, \n",
    "                'hash': '#f&cst=null&cud=0&pg=1-4&prod=', \n",
    "                'counter': 3\n",
    "                }, headers = {\n",
    "            'Content-Type': 'application/json'},)\n",
    "\n",
    "        #parse json, then parse html, save all necessary info\n",
    "        data = resp.json()\n",
    "        data_html = data['d']['Boxes']\n",
    "        beautiful_html = BeautifulSoup(data_html, 'html.parser')\n",
    "        elements =  beautiful_html.find_all('a', {'class':'name browsinglink'})\n",
    "        for element in elements:\n",
    "            id = element.get(\"data-impression-id\")\n",
    "            url = element.get(\"href\")\n",
    "            title = element.get(\"data-impression-name\")\n",
    "            price = element.get(\"data-impression-metric2\").replace(',', '.')\n",
    "            stock_state = element.get(\"data-impression-dimension13\").replace('\\xa0','')\n",
    "            last_update = datetime.datetime.utcnow()\n",
    "\n",
    "            #try to find if something changed in DB\n",
    "            c.execute(\"SELECT id, url, title, price, stock_state FROM products WHERE id=? AND url=? AND title=? AND price=? AND stock_state=?\",(id, url, title, price, stock_state))\n",
    "            result = c.fetchone()\n",
    "\n",
    "            #if nothing changed, update time in DB\n",
    "            if result:\n",
    "                c.execute(\"UPDATE products SET last_update=? WHERE id=? AND url=?\", (last_update, id, url))\n",
    "            # else if just one value changed, place info about changed product into products_history table and replace old values with new ones\n",
    "            else:\n",
    "                c.execute(\"INSERT INTO products_history SELECT * FROM products WHERE id=? AND url=?\", (id, url))\n",
    "                c.execute(\"REPLACE INTO products VALUES (?, ?, ?, ?, ?, ?)\", (id, url, title, price, stock_state, last_update))\n",
    "                \n",
    "        conn.commit()        \n",
    "        c.close()"
   ]
  },
  {
   "source": [
    "### Ověření korektní funkce\n",
    "\n",
    "Na následujícím kódu lze ověřit základní funkcionalitu. Měly byste dostat stejný výstup jako je v ukázce. Protože se však stav e-shopu může měnit, uzpůsobte si eventuelně dotaz dle potřeb. Momentálně se testuje existence produktu https://www.alza.cz/sony-alpha-7ii?dq=2286288 ev. \n",
    "https://www.alza.cz/kod/OS072i1p5.\n",
    "\n",
    "Při ověřování korektní funkce Vaší implementace bude porovnán obsah DB vytvořený Vaší funkcí s předpokládaným obsahem DB v určitou dobu a poté znovu s několika hodinovým odstupem."
   ],
   "cell_type": "markdown",
   "metadata": {}
  },
  {
   "cell_type": "code",
   "execution_count": 5,
   "metadata": {
    "tags": []
   },
   "outputs": [
    {
     "output_type": "stream",
     "name": "stdout",
     "text": [
      "('OS072i1p5', '/sony-alpha-7ii?dq=2286288', Decimal('31490'))\n[('OF7032a', '/fujifilm-x-t3?dq=5457426', Decimal('39990')), ('OF7032a', '/fujifilm-x-t3-telo-cerny-levne-d5754350.htm', Decimal('36989.7')), ('OF7032a', '/fujifilm-x-t3-telo-cerny-sleva-d5877920.htm', Decimal('33990.11'))]\nOK\n"
     ]
    }
   ],
   "source": [
    "from contextlib import closing\n",
    "\n",
    "sync('data.sqlite')\n",
    "\n",
    "with sqlite3.connect('data.sqlite', detect_types=sqlite3.PARSE_DECLTYPES) as conn:\n",
    "    with closing(conn.cursor()) as c:\n",
    "        c.execute('SELECT id, url, price FROM products WHERE id=? AND url=? AND price>20000', ('OS072i1p5','/sony-alpha-7ii?dq=2286288'))\n",
    "        r = c.fetchone()\n",
    "        print(r)\n",
    "        assert(r != None)\n",
    "\n",
    "        c.execute('SELECT id, url, price FROM products WHERE id=? AND price>30000', ('OF7032a',))\n",
    "        r = c.fetchall()\n",
    "        print(r)\n",
    "        assert (len(r)>0 and '/fujifilm-x-t3?dq=5457426' in [a[1] for a in r])\n",
    "\n",
    "\n",
    "print(\"OK\")        "
   ]
  },
  {
   "source": [
    "### Komentář\n",
    "Do pole níže můžete vložit textový komentář týkající se tohoto úkolu. Např. jak dlouho Vám trvalo řešení, co bylo obtížné, co bylo se mělo více v rámci přenášky vysvětlit apod."
   ],
   "cell_type": "markdown",
   "metadata": {}
  },
  {
   "source": [
    "n/a"
   ],
   "cell_type": "markdown",
   "metadata": {}
  }
 ]
}