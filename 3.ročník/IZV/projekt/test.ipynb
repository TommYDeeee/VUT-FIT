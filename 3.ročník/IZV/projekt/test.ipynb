{
 "metadata": {
  "language_info": {
   "codemirror_mode": {
    "name": "ipython",
    "version": 3
   },
   "file_extension": ".py",
   "mimetype": "text/x-python",
   "name": "python",
   "nbconvert_exporter": "python",
   "pygments_lexer": "ipython3",
   "version": "3.8.5-final"
  },
  "orig_nbformat": 2,
  "kernelspec": {
   "name": "python3",
   "display_name": "Python 3"
  }
 },
 "nbformat": 4,
 "nbformat_minor": 2,
 "cells": [
  {
   "cell_type": "code",
   "execution_count": 3,
   "metadata": {},
   "outputs": [
    {
     "output_type": "stream",
     "name": "stdout",
     "text": [
      "\n",
      "Regiony v datasetu:\n",
      " - PLK (Plzeňský kraj)\n",
      " - KVK (Karlovarský kraj)\n",
      " - ZLK (Zlínský kraj)\n",
      "\n",
      "Celkový počet nehod v tomto datasetu: 50835\n",
      "\n",
      "Význam sloupců v tomto datasetu:\n",
      "p1                                   identifikační číslo\n",
      "p36                        druh pozemní komunikace (0-8)\n",
      "p37   číslo pozemní komunikace (1-999, 4-6 místné číslo)\n",
      "p2a                                      den, měsíc, rok\n",
      "p2ad                                  den v týdnu (od 0)\n",
      "p2b                                                  čas\n",
      "p6                                     druh nehody (0-9)\n",
      "p7                   druh srážky jedoucích vozidel (0-4)\n",
      "p8                             druh pevné překážky (0-9)\n",
      "p9                                charakter nehody (1/2)\n",
      "p10                                zavinění nehody (0-7)\n",
      "p11               alkohol u viníka nehody přítomen (0-9)\n",
      "p12                      hlavní příčiny nehody (100-615)\n",
      "p13a                     následky nehody - usmrceno osob\n",
      "p13b                následky nehody - tězce zraněno osob\n",
      "p13c                následky nehody - lehce zraněno osob\n",
      "p14                                 celková hmotná škoda\n",
      "p15                           druh povrchu vozovky (1-6)\n",
      "p16             stav povrchu vozovky v době nehody (0-9)\n",
      "p17                               stav komunikace (1-12)\n",
      "p18            povětrnostní podmínky v době nehody (0-7)\n",
      "p19                                    viditelnost (1-7)\n",
      "p20                              rozhledové poměry (0-6)\n",
      "p21                              dělení komunikace (0-6)\n",
      "p22                 situování nehody na komunikaci (0-9)\n",
      "p23                   řízení provozu v době nehody (0-3)\n",
      "p24                místní úprava přednosti v jízdě (0-5)\n",
      "p27     specifická místa a objekty v místě nehody (0-10)\n",
      "p28                                 směrové poměry (1-7)\n",
      "p34                           počet zúčastněných vozidel\n",
      "p35                         místo dopravní nehody (0-29)\n",
      "p39                   druh křižující komunikace (1-7, 9)\n",
      "p44                                  druh vozidla (0-18)\n",
      "p45a            výrobní značka motorového vozidla (0-99)\n",
      "p47                rok výroby vozidla (nelze zjistit -1)\n",
      "p48a                      charakteristika vozidla (0-18)\n",
      "p49                                           smyk (0/1)\n",
      "p50a                             vozidlo po nehodě (0-4)\n",
      "p50b          únik provozních, přepravovaných hmot (0-4)\n",
      "p51               způsob vyproštění osob z vozidla (1-3)\n",
      "p52             směr jízdy nebo postavení vozidla (1-99)\n",
      "p53                    škoda na vozidle (ve stokorunách)\n",
      "p55a                              kategorie řidiče (0-9)\n",
      "p57                                    stav řidiče (0-9)\n",
      "p58                        vnější ovlivnění řidiče (0-5)\n",
      "a                                       neznámý parametr\n",
      "b                                       neznámý parametr\n",
      "d                                           souřadnice X\n",
      "e                                           souřadnice Y\n",
      "f                                       neznámý parametr\n",
      "g                                       neznámý parametr\n",
      "h                                       neznámý parametr\n",
      "i                                       neznámý parametr\n",
      "j                                       neznámý parametr\n",
      "k                                       neznámý parametr\n",
      "l                                       neznámý parametr\n",
      "n                                       neznámý parametr\n",
      "o                                       neznámý parametr\n",
      "p                                       neznámý parametr\n",
      "q                                       neznámý parametr\n",
      "r                                       neznámý parametr\n",
      "s                                       neznámý parametr\n",
      "t                                       neznámý parametr\n",
      "p5a                                lokalita nehody (1/2)\n",
      "region             kód regionu, ve kterém se nehoda udála\n",
      "\n",
      "1.55 s ± 75.2 ms per loop (mean ± std. dev. of 7 runs, 1 loop each)\n"
     ]
    }
   ],
   "source": [
    "%run download.py\n",
    "dd = DataDownloader()\n",
    "%timeit dd.parse_region_data(\"JHM\")"
   ]
  },
  {
   "cell_type": "code",
   "execution_count": null,
   "metadata": {},
   "outputs": [],
   "source": []
  }
 ]
}